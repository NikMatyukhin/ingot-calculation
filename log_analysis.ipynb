{
 "cells": [
  {
   "cell_type": "code",
   "execution_count": 52,
   "id": "a45ab829",
   "metadata": {},
   "outputs": [],
   "source": [
    "import pandas as pd\n",
    "import re\n",
    "import numpy as np\n",
    "import matplotlib.pyplot as plt"
   ]
  },
  {
   "cell_type": "code",
   "execution_count": 53,
   "id": "ff97e5b4",
   "metadata": {},
   "outputs": [],
   "source": [
    "with open('log/info.log',  encoding=\"utf-8\") as  f:\n",
    "    lines = f.readlines()"
   ]
  },
  {
   "cell_type": "markdown",
   "id": "58c06925",
   "metadata": {},
   "source": [
    "Получение всего времени работы программы"
   ]
  },
  {
   "cell_type": "code",
   "execution_count": 54,
   "id": "62d89fc0",
   "metadata": {},
   "outputs": [
    {
     "data": {
      "text/plain": [
       "74.97"
      ]
     },
     "execution_count": 54,
     "metadata": {},
     "output_type": "execute_result"
    }
   ],
   "source": [
    "r = re.compile(\".*Выход из приложения OCI. Время работы.*\")\n",
    "newlist = list(filter(r.match, lines))\n",
    "whole_minutes_count = 0\n",
    "for t_list in newlist:\n",
    "    minutes_count = float(re.findall(r'\\d+\\.\\d+', t_list)[0])\n",
    "    whole_minutes_count += minutes_count\n",
    "whole_minutes_count"
   ]
  },
  {
   "cell_type": "markdown",
   "id": "ad0a2628",
   "metadata": {},
   "source": [
    "Получение времени раскроя"
   ]
  },
  {
   "cell_type": "code",
   "execution_count": 44,
   "id": "26e70f0b",
   "metadata": {},
   "outputs": [
    {
     "name": "stdout",
     "output_type": "stream",
     "text": [
      "Среднее время рассчетов раскроя для заказа: 0.689925\n",
      "Максимальное время рассчетов раскроя для заказа: 0.7568\n"
     ]
    },
    {
     "data": {
      "text/plain": [
       "(array([1., 0., 0., 1., 0., 1., 2., 3., 2., 2.]),\n",
       " array([0.5488, 0.5696, 0.5904, 0.6112, 0.632 , 0.6528, 0.6736, 0.6944,\n",
       "        0.7152, 0.736 , 0.7568]),\n",
       " <BarContainer object of 10 artists>)"
      ]
     },
     "execution_count": 44,
     "metadata": {},
     "output_type": "execute_result"
    },
    {
     "data": {
      "image/png": "[encoded data removed]",
      "text/plain": [
       "<Figure size 432x288 with 1 Axes>"
      ]
     },
     "metadata": {
      "needs_background": "light"
     },
     "output_type": "display_data"
    }
   ],
   "source": [
    "r = re.compile(\".*Время выполнения функции stmh_idrd: *\")\n",
    "newlist = list(filter(r.match, lines))\n",
    "all_calcul_time = []\n",
    "for t_list in newlist:\n",
    "    minutes_count = float(re.findall(r'\\d+\\.\\d+', t_list)[0])\n",
    "    all_calcul_time.append(minutes_count)\n",
    "all_calcul_time = np.array(all_calcul_time)\n",
    "print(\"Среднее время рассчетов раскроя для заказа:\", np.mean(all_calcul_time))\n",
    "print(\"Максимальное время рассчетов раскроя для заказа:\", np.max(all_calcul_time))\n",
    "plt.hist(all_calcul_time)"
   ]
  },
  {
   "cell_type": "markdown",
   "id": "16541230",
   "metadata": {},
   "source": [
    "Количество добавлений заказа в базу"
   ]
  },
  {
   "cell_type": "code",
   "execution_count": 47,
   "id": "311cecae",
   "metadata": {},
   "outputs": [
    {
     "name": "stdout",
     "output_type": "stream",
     "text": [
      "2\n"
     ]
    }
   ],
   "source": [
    "r = re.compile(\".*добавлен в базу*\")\n",
    "newlist = list(filter(r.match, lines))\n",
    "print(len(newlist))"
   ]
  },
  {
   "cell_type": "markdown",
   "id": "6c4fd110",
   "metadata": {},
   "source": [
    "Количество раз, когда был успешно сформирован заказ"
   ]
  },
  {
   "cell_type": "code",
   "execution_count": 48,
   "id": "bbd5473e",
   "metadata": {},
   "outputs": [
    {
     "name": "stdout",
     "output_type": "stream",
     "text": [
      "12\n"
     ]
    }
   ],
   "source": [
    "r = re.compile(\".*успешно создан*\")\n",
    "newlist = list(filter(r.match, lines))\n",
    "print(len(newlist))"
   ]
  },
  {
   "cell_type": "markdown",
   "id": "613361ce",
   "metadata": {},
   "source": [
    "Количество раз, когда был произведен расчет размер слитка"
   ]
  },
  {
   "cell_type": "code",
   "execution_count": 51,
   "id": "a1fdd372",
   "metadata": {},
   "outputs": [
    {
     "name": "stdout",
     "output_type": "stream",
     "text": [
      "1\n"
     ]
    }
   ],
   "source": [
    "r = re.compile(\".*Расчет слитка *\")\n",
    "newlist = list(filter(r.match, lines))\n",
    "print(len(newlist))"
   ]
  },
  {
   "cell_type": "code",
   "execution_count": null,
   "id": "690cbc8d",
   "metadata": {},
   "outputs": [],
   "source": []
  },
  {
   "cell_type": "code",
   "execution_count": null,
   "id": "f9aab7c6",
   "metadata": {},
   "outputs": [],
   "source": []
  },
  {
   "cell_type": "code",
   "execution_count": null,
   "id": "e12d208b",
   "metadata": {},
   "outputs": [],
   "source": []
  },
  {
   "cell_type": "code",
   "execution_count": 45,
   "id": "d1f0fcd8",
   "metadata": {},
   "outputs": [
    {
     "data": {
      "text/plain": [
       "['[INFO:24/06/2021 15:38:44:mainwindow.py(1136)] Приложение OCI запущено.\\n',\n",
       " '[INFO:24/06/2021 15:39:18:dialogs.py(538)] Попытка расчета слитка под ПЗ ЗАКАЗ: 8 заготовок, 4 толщин\\n',\n",
       " '[INFO:24/06/2021 15:39:20:dialogs.py(548)] Расчет слитка ЗАКАЗ успешно завершен. Размеры: 81, 180, 30; эффективность: 0 толщин\\n',\n",
       " '[INFO:24/06/2021 15:39:30:dialogs.py(789)] Заказ 1 добавлен в базу.\\n',\n",
       " '[INFO:24/06/2021 15:43:00:mainwindow.py(424)] Попытка создания раскроя для заказа 1.\\n',\n",
       " '[INFO:24/06/2021 15:43:00:mainwindow.py(430)] Заказ 1: 8 заготовок, 4 толщин, слиток 81х180х30\\n',\n",
       " '[INFO:24/06/2021 15:43:01:log.py(57)] Время выполнения функции stmh_idrd: 0.6283 сек\\n',\n",
       " '[INFO:24/06/2021 15:43:01:mainwindow.py(454)] Раскрой для заказа 1 успешно создан.\\n',\n",
       " '[INFO:24/06/2021 15:43:40:mainwindow.py(424)] Попытка создания раскроя для заказа 1.\\n',\n",
       " '[INFO:24/06/2021 15:43:40:mainwindow.py(430)] Заказ 1: 10 заготовок, 4 толщин, слиток 81х180х30\\n',\n",
       " '[INFO:24/06/2021 15:43:41:log.py(57)] Время выполнения функции stmh_idrd: 0.7568 сек\\n',\n",
       " '[INFO:24/06/2021 15:43:41:mainwindow.py(454)] Раскрой для заказа 1 успешно создан.\\n',\n",
       " '[INFO:24/06/2021 15:45:35:dialogs.py(789)] Заказ 2 добавлен в базу.\\n',\n",
       " '[INFO:24/06/2021 15:45:54:mainwindow.py(424)] Попытка создания раскроя для заказа 2.\\n',\n",
       " '[INFO:24/06/2021 15:45:54:mainwindow.py(430)] Заказ 2: 8 заготовок, 4 толщин, слиток 160х180х28\\n',\n",
       " '[INFO:24/06/2021 15:45:55:log.py(57)] Время выполнения функции stmh_idrd: 0.5488 сек\\n',\n",
       " '[INFO:24/06/2021 15:45:55:mainwindow.py(454)] Раскрой для заказа 2 успешно создан.\\n',\n",
       " '[INFO:24/06/2021 15:46:50:mainwindow.py(1147)] Выход из приложения OCI. Время работы: 8.11 мин.\\n',\n",
       " '[INFO:24/06/2021 15:46:59:mainwindow.py(1136)] Приложение OCI запущено.\\n',\n",
       " '[INFO:24/06/2021 15:47:35:mainwindow.py(1147)] Выход из приложения OCI. Время работы: 0.60 мин.\\n',\n",
       " '[INFO:24/06/2021 15:49:18:mainwindow.py(1136)] Приложение OCI запущено.\\n',\n",
       " '[INFO:24/06/2021 15:49:27:mainwindow.py(424)] Попытка создания раскроя для заказа 1.\\n',\n",
       " '[INFO:24/06/2021 15:49:27:mainwindow.py(430)] Заказ 1: 10 заготовок, 4 толщин, слиток 81х180х30\\n',\n",
       " '[INFO:24/06/2021 15:49:28:log.py(57)] Время выполнения функции stmh_idrd: 0.7462 сек\\n',\n",
       " '[INFO:24/06/2021 15:49:28:mainwindow.py(454)] Раскрой для заказа 1 успешно создан.\\n',\n",
       " '[INFO:24/06/2021 15:49:29:mainwindow.py(424)] Попытка создания раскроя для заказа 1.\\n',\n",
       " '[INFO:24/06/2021 15:49:29:mainwindow.py(430)] Заказ 1: 10 заготовок, 4 толщин, слиток 81х180х30\\n',\n",
       " '[INFO:24/06/2021 15:49:30:log.py(57)] Время выполнения функции stmh_idrd: 0.7185 сек\\n',\n",
       " '[INFO:24/06/2021 15:49:30:mainwindow.py(454)] Раскрой для заказа 1 успешно создан.\\n',\n",
       " '[INFO:24/06/2021 15:49:31:mainwindow.py(424)] Попытка создания раскроя для заказа 1.\\n',\n",
       " '[INFO:24/06/2021 15:49:31:mainwindow.py(430)] Заказ 1: 10 заготовок, 4 толщин, слиток 81х180х30\\n',\n",
       " '[INFO:24/06/2021 15:49:32:log.py(57)] Время выполнения функции stmh_idrd: 0.6780 сек\\n',\n",
       " '[INFO:24/06/2021 15:49:32:mainwindow.py(454)] Раскрой для заказа 1 успешно создан.\\n',\n",
       " '[INFO:24/06/2021 15:49:33:mainwindow.py(424)] Попытка создания раскроя для заказа 1.\\n',\n",
       " '[INFO:24/06/2021 15:49:33:mainwindow.py(430)] Заказ 1: 10 заготовок, 4 толщин, слиток 81х180х30\\n',\n",
       " '[INFO:24/06/2021 15:49:34:log.py(57)] Время выполнения функции stmh_idrd: 0.7318 сек\\n',\n",
       " '[INFO:24/06/2021 15:49:34:mainwindow.py(454)] Раскрой для заказа 1 успешно создан.\\n',\n",
       " '[INFO:24/06/2021 15:49:35:mainwindow.py(424)] Попытка создания раскроя для заказа 1.\\n',\n",
       " '[INFO:24/06/2021 15:49:35:mainwindow.py(430)] Заказ 1: 10 заготовок, 4 толщин, слиток 81х180х30\\n',\n",
       " '[INFO:24/06/2021 15:49:35:log.py(57)] Время выполнения функции stmh_idrd: 0.6607 сек\\n',\n",
       " '[INFO:24/06/2021 15:49:35:mainwindow.py(454)] Раскрой для заказа 1 успешно создан.\\n',\n",
       " '[INFO:24/06/2021 15:49:36:mainwindow.py(424)] Попытка создания раскроя для заказа 1.\\n',\n",
       " '[INFO:24/06/2021 15:49:36:mainwindow.py(430)] Заказ 1: 10 заготовок, 4 толщин, слиток 81х180х30\\n',\n",
       " '[INFO:24/06/2021 15:49:37:log.py(57)] Время выполнения функции stmh_idrd: 0.6858 сек\\n',\n",
       " '[INFO:24/06/2021 15:49:37:mainwindow.py(454)] Раскрой для заказа 1 успешно создан.\\n',\n",
       " '[INFO:24/06/2021 15:49:37:mainwindow.py(424)] Попытка создания раскроя для заказа 1.\\n',\n",
       " '[INFO:24/06/2021 15:49:37:mainwindow.py(430)] Заказ 1: 10 заготовок, 4 толщин, слиток 81х180х30\\n',\n",
       " '[INFO:24/06/2021 15:49:38:log.py(57)] Время выполнения функции stmh_idrd: 0.7136 сек\\n',\n",
       " '[INFO:24/06/2021 15:49:38:mainwindow.py(454)] Раскрой для заказа 1 успешно создан.\\n',\n",
       " '[INFO:24/06/2021 15:49:39:mainwindow.py(424)] Попытка создания раскроя для заказа 1.\\n',\n",
       " '[INFO:24/06/2021 15:49:39:mainwindow.py(430)] Заказ 1: 10 заготовок, 4 толщин, слиток 81х180х30\\n',\n",
       " '[INFO:24/06/2021 15:49:40:log.py(57)] Время выполнения функции stmh_idrd: 0.7048 сек\\n',\n",
       " '[INFO:24/06/2021 15:49:40:mainwindow.py(454)] Раскрой для заказа 1 успешно создан.\\n',\n",
       " '[INFO:24/06/2021 15:49:41:mainwindow.py(424)] Попытка создания раскроя для заказа 1.\\n',\n",
       " '[INFO:24/06/2021 15:49:41:mainwindow.py(430)] Заказ 1: 10 заготовок, 4 толщин, слиток 81х180х30\\n',\n",
       " '[INFO:24/06/2021 15:49:42:log.py(57)] Время выполнения функции stmh_idrd: 0.7058 сек\\n',\n",
       " '[INFO:24/06/2021 15:49:42:mainwindow.py(454)] Раскрой для заказа 1 успешно создан.\\n',\n",
       " '[INFO:24/06/2021 15:49:43:mainwindow.py(1147)] Выход из приложения OCI. Время работы: 0.41 мин.\\n']"
      ]
     },
     "execution_count": 45,
     "metadata": {},
     "output_type": "execute_result"
    }
   ],
   "source": [
    "lines"
   ]
  },
  {
   "cell_type": "code",
   "execution_count": null,
   "id": "25a01561",
   "metadata": {},
   "outputs": [],
   "source": []
  }
 ],
 "metadata": {
  "kernelspec": {
   "display_name": "Python 3",
   "language": "python",
   "name": "python3"
  },
  "language_info": {
   "codemirror_mode": {
    "name": "ipython",
    "version": 3
   },
   "file_extension": ".py",
   "mimetype": "text/x-python",
   "name": "python",
   "nbconvert_exporter": "python",
   "pygments_lexer": "ipython3",
   "version": "3.8.5"
  }
 },
 "nbformat": 4,
 "nbformat_minor": 5
}
